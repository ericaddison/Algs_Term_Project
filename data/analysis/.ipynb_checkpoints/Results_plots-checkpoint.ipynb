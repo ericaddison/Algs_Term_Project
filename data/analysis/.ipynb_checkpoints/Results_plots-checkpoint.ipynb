{
 "cells": [
  {
   "cell_type": "code",
   "execution_count": 1,
   "metadata": {
    "collapsed": true
   },
   "outputs": [],
   "source": [
    "import pandas\n",
    "import numpy\n",
    "import matplotlib.pyplot as plt\n",
    "import os"
   ]
  },
  {
   "cell_type": "code",
   "execution_count": 76,
   "metadata": {},
   "outputs": [
    {
     "name": "stdout",
     "output_type": "stream",
     "text": [
      "Window Length [ 256  512 1024 2048 4096]\n",
      "FilterBank Num SubBands  [ 2  4  8 16 32]\n",
      "FilterBank Length [ 256  512 1024 2048 4096]\n",
      "Adaptive Byte Buff [True False]\n",
      "Adaptive Huffman [True False]\n",
      "Model f1 [   0.  100.  200.  300.]\n",
      "Model f2 [     0.  15000.  12500.  10000.   8000.]\n"
     ]
    }
   ],
   "source": [
    "# load string wav data\n",
    "sf = pandas.read_csv('../strings.wav_data.csv')\n",
    "var_columns = sf.columns[[2,8,9,10,11,12,13]]\n",
    "metric_columns = sf.columns[[4,7,26,27]]\n",
    "\n",
    "# make plots of free variables vs metrics\n",
    "for i in range(var_columns.size):\n",
    "    name = var_columns[i]\n",
    "    uniqueVars = sf[name].unique()\n",
    "    print name, uniqueVars\n",
    "    for j in range(metric_columns.size):\n",
    "        metric = metric_columns[j]\n",
    "        d = [ sf[ sf[name]==uniqueVars[k] ][metric].values for k in range(uniqueVars.size)]\n",
    "        plt.figure(figsize=(10,7))\n",
    "        plt.title(sf[\"original filename\"][0] + \"\\n\" + metric + \" vs. \" + name, size=20)\n",
    "        plt.ylabel(metric, size=16)\n",
    "        plt.xlabel(name, size=16)\n",
    "        for label in (plt.gca().get_xticklabels() + plt.gca().get_yticklabels()):\n",
    "            label.set_fontsize(16)\n",
    "        plt.boxplot(d, labels=uniqueVars, showmeans=True)\n",
    "        plt.savefig('./stringsWav/' + name + '_' + metric + '.png')\n",
    "        plt.close()\n",
    "        "
   ]
  },
  {
   "cell_type": "code",
   "execution_count": 74,
   "metadata": {
    "scrolled": true
   },
   "outputs": [
    {
     "name": "stdout",
     "output_type": "stream",
     "text": [
      "Window Length [ 256  512 1024 2048 4096]\n",
      "FilterBank Num SubBands  [ 2  4  8 16 32]\n",
      "FilterBank Length [ 256  512 1024 2048 4096]\n",
      "Adaptive Byte Buff [True False]\n",
      "Adaptive Huffman [True False]\n",
      "Model f1 [   0.  100.  200.  300.]\n",
      "Model f2 [     0.  15000.  12500.  10000.   8000.]\n"
     ]
    }
   ],
   "source": [
    "# load all data\n",
    "files = [f for f in os.listdir('../') if f[-3:]==\"csv\"]\n",
    "frames = [pandas.read_csv('../'+f) for f in files]\n",
    "var_columns = frames[0].columns[[2,8,9,10,11,12,13]]\n",
    "metric_columns = frames[0].columns[[4,7,26,27]]\n",
    "\n",
    "for i in range(var_columns.size):\n",
    "    name = var_columns[i]\n",
    "    uniqueVars = sf[name].unique()\n",
    "    print name, uniqueVars\n",
    "    for j in range(metric_columns.size):\n",
    "        metric = metric_columns[j]\n",
    "        plt.figure(figsize=(13,7))\n",
    "        plt.ylabel(metric, size=16)\n",
    "        plt.xlabel(name, size=16)\n",
    "        for label in (plt.gca().get_xticklabels() + plt.gca().get_yticklabels()):\n",
    "            label.set_fontsize(16)\n",
    "        plt.title(\"Mean values for\\n\" + metric + \" vs. \" + name, size=20)\n",
    "        for frame in frames:\n",
    "            d = [ frame[ frame[name]==uniqueVars[k] ][metric].values.mean() for k in range(uniqueVars.size)]\n",
    "            plt.scatter(uniqueVars, d, label=frame[\"original filename\"][0], s=100)\n",
    "        \n",
    "        plt.legend(bbox_to_anchor=(1.05, 1), loc=2, borderaxespad=0, fontsize=16)\n",
    "        plt.gca().set_position([0.1,0.12,0.58,0.75])\n",
    "        plt.savefig('./meanPlots/' + name + '_' + metric + '_mean.png')\n",
    "        plt.close()"
   ]
  },
  {
   "cell_type": "code",
   "execution_count": 75,
   "metadata": {},
   "outputs": [
    {
     "name": "stdout",
     "output_type": "stream",
     "text": [
      "RMS Error\n",
      "Compression Ratio\n",
      "Total Compression time (ms)\n",
      " Total Decompression time (ms)\n"
     ]
    }
   ],
   "source": [
    "# load all data\n",
    "files = [f for f in os.listdir('../') if f[-3:]==\"csv\"]\n",
    "frames = [pandas.read_csv('../'+f) for f in files]\n",
    "var_columns = frames[0].columns[[2,8,9,10,11,12,13]]\n",
    "metric_columns = frames[0].columns[[4,7,26,27]]\n",
    "filenames = [ frame.get_values()[0][0] for frame in frames]\n",
    "\n",
    "for j in range(metric_columns.size):\n",
    "    metric = metric_columns[j]\n",
    "    print metric\n",
    "    plt.figure(figsize=(13,10))\n",
    "    plt.ylabel(metric, size=16)\n",
    "    plt.xlabel(name, size=16)\n",
    "    for label in (plt.gca().get_xticklabels() + plt.gca().get_yticklabels()):\n",
    "        label.set_fontsize(16)\n",
    "    plt.title(metric + \" vs. input file\", size=20)\n",
    "    d = [ frame[metric].values for frame in frames]\n",
    "    plt.boxplot(d, showmeans=True, labels=filenames)\n",
    "    plt.gca().set_xticklabels(plt.gca().xaxis.get_majorticklabels(), rotation=-60)\n",
    "    plt.gca().set_position([0.125,0.3,0.8,0.6])\n",
    "    plt.savefig('./allFilesPlots/' + metric + '_fileBoxPlots.png')\n",
    "    plt.close()"
   ]
  },
  {
   "cell_type": "code",
   "execution_count": 77,
   "metadata": {
    "collapsed": true
   },
   "outputs": [],
   "source": [
    "# find the extremes of rms and compression\n",
    "# load all data\n",
    "files = [f for f in os.listdir('../') if f[-3:]==\"csv\"]\n",
    "frames = [pandas.read_csv('../'+f) for f in files]\n",
    "\n",
    "frame = frames[1]\n",
    "\n",
    "\n"
   ]
  },
  {
   "cell_type": "code",
   "execution_count": 31,
   "metadata": {},
   "outputs": [
    {
     "name": "stdout",
     "output_type": "stream",
     "text": [
      "0.0\n",
      "\n",
      "\n",
      "kickdrum.wav\n",
      "=======================\n",
      "RMS Error range: \t0.006848175  -  0.065828174\n",
      "Compression Ratio range: \t0.15176006  -  1.3883418\n",
      "Total Compression time (ms) range: \t137.493691  -  1055.351196\n",
      " Total Decompression time (ms) range: \t143.93418  -  1048.566889\n",
      "\n",
      "\n",
      "ep_low.wav\n",
      "=======================\n",
      "RMS Error range: \t0.0051043807  -  0.049986288\n",
      "Compression Ratio range: \t0.30511665  -  1.3779107\n",
      "Total Compression time (ms) range: \t347.509291  -  2247.46045\n",
      " Total Decompression time (ms) range: \t359.655541  -  2244.8397\n",
      "\n",
      "\n",
      "hihat.wav\n",
      "=======================\n",
      "RMS Error range: \t0.0021004002  -  0.029033162\n",
      "Compression Ratio range: \t0.20670244  -  1.384866\n",
      "Total Compression time (ms) range: \t193.677115  -  1355.136392\n",
      " Total Decompression time (ms) range: \t201.86115  -  1346.632388\n",
      "\n",
      "\n",
      "synth_bass.wav\n",
      "=======================\n",
      "RMS Error range: \t0.016779352  -  0.15765792\n",
      "Compression Ratio range: \t0.347698  -  1.3775389\n",
      "Total Compression time (ms) range: \t189.223773  -  1222.78157\n",
      " Total Decompression time (ms) range: \t203.069496  -  1219.646751\n",
      "\n",
      "\n",
      "drumkit.wav\n",
      "=======================\n",
      "RMS Error range: \t0.004928087  -  0.046404157\n",
      "Compression Ratio range: \t0.20193723  -  1.3809148\n",
      "Total Compression time (ms) range: \t164.13255  -  1183.801458\n",
      " Total Decompression time (ms) range: \t169.213461  -  1159.460661\n",
      "\n",
      "\n",
      "strings.wav\n",
      "=======================\n",
      "RMS Error range: \t0.007899712  -  0.08052278\n",
      "Compression Ratio range: \t0.33577555  -  1.3713458\n",
      "Total Compression time (ms) range: \t188.854899  -  1180.696826\n",
      " Total Decompression time (ms) range: \t195.196077  -  1169.369825\n",
      "\n",
      "\n",
      "square_overtones.wav\n",
      "=======================\n",
      "RMS Error range: \t0.004268474  -  0.08589079\n",
      "Compression Ratio range: \t0.3751016  -  1.3740308\n",
      "Total Compression time (ms) range: \t158.833094  -  967.553653\n",
      " Total Decompression time (ms) range: \t164.396678  -  949.764428\n",
      "\n",
      "\n",
      "hi_piano.wav\n",
      "=======================\n",
      "RMS Error range: \t0.0019645693  -  0.04187164\n",
      "Compression Ratio range: \t0.2925459  -  1.3798848\n",
      "Total Compression time (ms) range: \t158.412602  -  1047.932076\n",
      " Total Decompression time (ms) range: \t164.436221  -  1027.935349\n",
      "\n",
      "\n",
      "hi_low_synth.wav\n",
      "=======================\n",
      "RMS Error range: \t0.017215313  -  0.17237133\n",
      "Compression Ratio range: \t0.38068858  -  1.3737813\n",
      "Total Compression time (ms) range: \t178.810502  -  1082.29584\n",
      " Total Decompression time (ms) range: \t185.412486  -  1073.488767\n"
     ]
    }
   ],
   "source": [
    "# simple numerical stats\n",
    "\n",
    "# load all data\n",
    "files = [f for f in os.listdir('../') if f[-3:]==\"csv\"]\n",
    "frames = [pandas.read_csv('../'+f) for f in files]\n",
    "var_columns = frames[0].columns[[2,8,9,10,11,12,13]]\n",
    "metric_columns = frames[0].columns[[4,7,26,27]]\n",
    "\n",
    "x = numpy.zeros(1)\n",
    "print x.max()\n",
    "\n",
    "for frame in frames:\n",
    "    print \"\\n\\n\", frame.get_values()[0][0]\n",
    "    print \"=======================\"\n",
    "    for metric in metric_columns:\n",
    "        print metric + \" range: \\t\", frame[metric].values.min(), \" - \", frame[metric].values.max()"
   ]
  }
 ],
 "metadata": {
  "kernelspec": {
   "display_name": "Python 2",
   "language": "python",
   "name": "python2"
  },
  "language_info": {
   "codemirror_mode": {
    "name": "ipython",
    "version": 2
   },
   "file_extension": ".py",
   "mimetype": "text/x-python",
   "name": "python",
   "nbconvert_exporter": "python",
   "pygments_lexer": "ipython2",
   "version": "2.7.12"
  }
 },
 "nbformat": 4,
 "nbformat_minor": 2
}
