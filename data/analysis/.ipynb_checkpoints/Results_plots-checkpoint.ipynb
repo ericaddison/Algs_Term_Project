{
 "cells": [
  {
   "cell_type": "code",
   "execution_count": 24,
   "metadata": {
    "collapsed": true
   },
   "outputs": [],
   "source": [
    "import pandas\n",
    "import numpy\n",
    "import matplotlib.pyplot as plt\n",
    "import os"
   ]
  },
  {
   "cell_type": "code",
   "execution_count": 80,
   "metadata": {},
   "outputs": [
    {
     "name": "stdout",
     "output_type": "stream",
     "text": [
      "Window Length [ 256  512 1024 2048 4096]\n",
      "FilterBank Num SubBands  [ 2  4  8 16 32]\n",
      "FilterBank Length [ 256  512 1024 2048 4096]\n",
      "Adaptive Byte Buff [True False]\n",
      "Adaptive Huffman [True False]\n",
      "Model f1 [   0.  100.  200.  300.]\n",
      "Model f2 [     0.  15000.  12500.  10000.   8000.]\n"
     ]
    }
   ],
   "source": [
    "# load string wav data\n",
    "sf = pandas.read_csv('../strings.wav_data.csv')\n",
    "var_columns = sf.columns[[2,8,9,10,11,12,13]]\n",
    "metric_columns = sf.columns[[4,7,26,27]]\n",
    "\n",
    "# make plots of free variables vs metrics\n",
    "for i in range(var_columns.size):\n",
    "    name = var_columns[i]\n",
    "    uniqueVars = sf[name].unique()\n",
    "    print name, uniqueVars\n",
    "    for j in range(metric_columns.size):\n",
    "        metric = metric_columns[j]\n",
    "        d = [ sf[ sf[name]==uniqueVars[k] ][metric].values for k in range(uniqueVars.size)]\n",
    "        plt.figure()\n",
    "        plt.boxplot(d, labels=uniqueVars)\n",
    "        plt.title(sf[\"original filename\"][0] + \" \" + name + \" vs. \" + metric)\n",
    "        plt.ylabel(metric)\n",
    "        plt.xlabel(name)\n",
    "        plt.savefig('./' + name + '_' + metric + '.png')\n",
    "        plt.close()\n",
    "        "
   ]
  },
  {
   "cell_type": "code",
   "execution_count": 81,
   "metadata": {
    "scrolled": true
   },
   "outputs": [
    {
     "name": "stdout",
     "output_type": "stream",
     "text": [
      "Window Length [ 256  512 1024 2048 4096]\n",
      "FilterBank Num SubBands  [ 2  4  8 16 32]\n",
      "FilterBank Length [ 256  512 1024 2048 4096]\n",
      "Adaptive Byte Buff [True False]\n",
      "Adaptive Huffman [True False]\n",
      "Model f1 [   0.  100.  200.  300.]\n",
      "Model f2 [     0.  15000.  12500.  10000.   8000.]\n"
     ]
    }
   ],
   "source": [
    "# load all data\n",
    "files = [f for f in os.listdir('../') if f[-3:]==\"csv\"]\n",
    "frames = [pandas.read_csv('../'+f) for f in files]\n",
    "var_columns = frames[0].columns[[2,8,9,10,11,12,13]]\n",
    "metric_columns = frames[0].columns[[4,7,26,27]]\n",
    "\n",
    "for i in range(var_columns.size):\n",
    "    name = var_columns[i]\n",
    "    uniqueVars = sf[name].unique()\n",
    "    print name, uniqueVars\n",
    "    for j in range(metric_columns.size):\n",
    "        metric = metric_columns[j]\n",
    "        plt.figure(figsize=(9,4))\n",
    "        plt.ylabel(metric)\n",
    "        plt.xlabel(name)\n",
    "        plt.title(\"Mean values for \" + name + \" vs. \" + metric)\n",
    "        for frame in frames:\n",
    "            d = [ frame[ frame[name]==uniqueVars[k] ][metric].values.mean() for k in range(uniqueVars.size)]\n",
    "            plt.scatter(uniqueVars, d, label=frame[\"original filename\"][0])\n",
    "        \n",
    "        plt.legend(bbox_to_anchor=(1.05, 1), loc=2, borderaxespad=0.)\n",
    "        plt.gca().set_position([0.1,0.12,0.6,0.8])\n",
    "        plt.savefig('./' + name + '_' + metric + '_mean.png')\n",
    "        plt.close()"
   ]
  }
 ],
 "metadata": {
  "kernelspec": {
   "display_name": "Python 2",
   "language": "python",
   "name": "python2"
  },
  "language_info": {
   "codemirror_mode": {
    "name": "ipython",
    "version": 2
   },
   "file_extension": ".py",
   "mimetype": "text/x-python",
   "name": "python",
   "nbconvert_exporter": "python",
   "pygments_lexer": "ipython2",
   "version": "2.7.12"
  }
 },
 "nbformat": 4,
 "nbformat_minor": 2
}
