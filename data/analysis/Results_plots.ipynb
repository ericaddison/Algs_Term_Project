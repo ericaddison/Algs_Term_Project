{
 "cells": [
  {
   "cell_type": "code",
   "execution_count": 24,
   "metadata": {
    "collapsed": true
   },
   "outputs": [],
   "source": [
    "import pandas\n",
    "import numpy\n",
    "import matplotlib.pyplot as plt\n",
    "import os"
   ]
  },
  {
   "cell_type": "code",
   "execution_count": 108,
   "metadata": {},
   "outputs": [
    {
     "name": "stdout",
     "output_type": "stream",
     "text": [
      "Window Length [ 256  512 1024 2048 4096]\n",
      "FilterBank Num SubBands  [ 2  4  8 16 32]\n",
      "FilterBank Length [ 256  512 1024 2048 4096]\n",
      "Adaptive Byte Buff [True False]\n",
      "Adaptive Huffman [True False]\n",
      "Model f1 [   0.  100.  200.  300.]\n",
      "Model f2 [     0.  15000.  12500.  10000.   8000.]\n"
     ]
    }
   ],
   "source": [
    "# load string wav data\n",
    "sf = pandas.read_csv('../strings.wav_data.csv')\n",
    "var_columns = sf.columns[[2,8,9,10,11,12,13]]\n",
    "metric_columns = sf.columns[[4,7,26,27]]\n",
    "\n",
    "# make plots of free variables vs metrics\n",
    "for i in range(var_columns.size):\n",
    "    name = var_columns[i]\n",
    "    uniqueVars = sf[name].unique()\n",
    "    print name, uniqueVars\n",
    "    for j in range(metric_columns.size):\n",
    "        metric = metric_columns[j]\n",
    "        d = [ sf[ sf[name]==uniqueVars[k] ][metric].values for k in range(uniqueVars.size)]\n",
    "        plt.figure(figsize=(10,7))\n",
    "        plt.title(sf[\"original filename\"][0] + \"\\n\" + metric + \" vs. \" + name, size=20)\n",
    "        plt.ylabel(metric, size=16)\n",
    "        plt.xlabel(name, size=16)\n",
    "        for label in (plt.gca().get_xticklabels() + plt.gca().get_yticklabels()):\n",
    "            label.set_fontsize(16)\n",
    "        plt.boxplot(d, labels=uniqueVars)\n",
    "        plt.savefig('./' + name + '_' + metric + '.png')\n",
    "        plt.close()\n",
    "        "
   ]
  },
  {
   "cell_type": "code",
   "execution_count": 105,
   "metadata": {
    "scrolled": true
   },
   "outputs": [
    {
     "name": "stdout",
     "output_type": "stream",
     "text": [
      "Window Length [ 256  512 1024 2048 4096]\n",
      "FilterBank Num SubBands  [ 2  4  8 16 32]\n",
      "FilterBank Length [ 256  512 1024 2048 4096]\n",
      "Adaptive Byte Buff [True False]\n",
      "Adaptive Huffman [True False]\n",
      "Model f1 [   0.  100.  200.  300.]\n",
      "Model f2 [     0.  15000.  12500.  10000.   8000.]\n"
     ]
    }
   ],
   "source": [
    "# load all data\n",
    "files = [f for f in os.listdir('../') if f[-3:]==\"csv\"]\n",
    "frames = [pandas.read_csv('../'+f) for f in files]\n",
    "var_columns = frames[0].columns[[2,8,9,10,11,12,13]]\n",
    "metric_columns = frames[0].columns[[4,7,26,27]]\n",
    "\n",
    "for i in range(var_columns.size):\n",
    "    name = var_columns[i]\n",
    "    uniqueVars = sf[name].unique()\n",
    "    print name, uniqueVars\n",
    "    for j in range(metric_columns.size):\n",
    "        metric = metric_columns[j]\n",
    "        plt.figure(figsize=(13,7))\n",
    "        plt.ylabel(metric, size=16)\n",
    "        plt.xlabel(name, size=16)\n",
    "        for label in (plt.gca().get_xticklabels() + plt.gca().get_yticklabels()):\n",
    "            label.set_fontsize(16)\n",
    "        plt.title(\"Mean values for\\n\" + metric + \" vs. \" + name, size=20)\n",
    "        for frame in frames:\n",
    "            d = [ frame[ frame[name]==uniqueVars[k] ][metric].values.mean() for k in range(uniqueVars.size)]\n",
    "            plt.scatter(uniqueVars, d, label=frame[\"original filename\"][0], s=100)\n",
    "        \n",
    "        plt.legend(bbox_to_anchor=(1.05, 1), loc=2, borderaxespad=0, fontsize=16)\n",
    "        plt.gca().set_position([0.1,0.12,0.58,0.75])\n",
    "        plt.savefig('./' + name + '_' + metric + '_mean.png')\n",
    "        plt.close()"
   ]
  }
 ],
 "metadata": {
  "kernelspec": {
   "display_name": "Python 2",
   "language": "python",
   "name": "python2"
  },
  "language_info": {
   "codemirror_mode": {
    "name": "ipython",
    "version": 2
   },
   "file_extension": ".py",
   "mimetype": "text/x-python",
   "name": "python",
   "nbconvert_exporter": "python",
   "pygments_lexer": "ipython2",
   "version": "2.7.12"
  }
 },
 "nbformat": 4,
 "nbformat_minor": 2
}
